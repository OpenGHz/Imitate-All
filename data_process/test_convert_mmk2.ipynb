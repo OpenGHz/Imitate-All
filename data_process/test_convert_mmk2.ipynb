{
 "cells": [
  {
   "cell_type": "code",
   "execution_count": null,
   "metadata": {},
   "outputs": [],
   "source": [
    "%load_ext autoreload\n",
    "%autoreload 2"
   ]
  },
  {
   "cell_type": "code",
   "execution_count": null,
   "metadata": {},
   "outputs": [],
   "source": [
    "import convert_all as crd"
   ]
  },
  {
   "cell_type": "code",
   "execution_count": null,
   "metadata": {},
   "outputs": [],
   "source": [
    "# get all low_dim data (head&spine velocity control)\n",
    "task_name = \"mmk2_put_two_cpus_into_bowl\"\n",
    "raw_root_dir = \"../data/raw\"\n",
    "raw_dir = f\"{raw_root_dir}/{task_name}\"\n",
    "data = crd.raw_to_dict(\n",
    "    raw_dir,\n",
    "    [\"low_dim.json\"],\n",
    "    video_file_names=None,\n",
    "    flatten_mode=\"hdf5\",\n",
    "    concatenater={\n",
    "        \"/observations/qpos\": (\n",
    "            \"/observation/arm/left/joint_position\",\n",
    "            \"/observation/eef/left/joint_position\",\n",
    "            \"/observation/arm/right/joint_position\",\n",
    "            \"/observation/eef/right/joint_position\",\n",
    "\n",
    "        ),\n",
    "        \"/action\": (\n",
    "            \"/action/arm/left/joint_position\",\n",
    "            \"/action/eef/left/joint_position\",\n",
    "            \"/action/arm/right/joint_position\",\n",
    "            \"/action/eef/right/joint_position\",\n",
    "        ),\n",
    "    },\n",
    "    key_filter=[\n",
    "        \"/observation/ts_diff_with_head_color_img\",\n",
    "        \"/observation/arm/left/joint_velocity\",\n",
    "        \"/observation/arm/right/joint_velocity\",\n",
    "        \"/observation/arm/left/joint_effort\",\n",
    "        \"/observation/arm/right/joint_effort\",\n",
    "        \"/observation/time\",\n",
    "        \"/action/time\",\n",
    "        \"/observation/eef/left/joint_velocity\",\n",
    "        \"/observation/eef/right/joint_velocity\",\n",
    "        \"/observation/eef/left/joint_effort\",\n",
    "        \"/observation/eef/right/joint_effort\",\n",
    "        \"/observation/head/joint_position\",\n",
    "        \"/observation/spine/joint_position\",\n",
    "        \"/observation/head/joint_velocity\",\n",
    "        \"/observation/head/joint_effort\",\n",
    "        \"/observation/spine/joint_velocity\",\n",
    "        # \"/action/head/joint_velocity\",\n",
    "        # \"/action/spine/joint_velocity\"\n",
    "    ],\n",
    ")"
   ]
  },
  {
   "cell_type": "code",
   "execution_count": null,
   "metadata": {},
   "outputs": [],
   "source": [
    "ep_number = len(data)\n",
    "print(f\"Number of episodes: {ep_number}\")"
   ]
  },
  {
   "cell_type": "code",
   "execution_count": null,
   "metadata": {},
   "outputs": [],
   "source": [
    "print(list(data[\"0\"].keys()))\n",
    "print(list(data[\"0\"][\"/observations/qpos\"][0]))\n",
    "print(list(data[\"0\"][\"/action\"][0]))"
   ]
  },
  {
   "cell_type": "code",
   "execution_count": null,
   "metadata": {},
   "outputs": [],
   "source": [
    "import os\n",
    "import cv2\n",
    "\n",
    "# merge high_dim data and save\n",
    "raw_dir\n",
    "names = [\"head\"]\n",
    "video_names = [f\"{name}.mp4\" for name in names]\n",
    "target_root_dir = \"../data/hdf5\"\n",
    "target_dir = f\"{target_root_dir}/{task_name}\"\n",
    "low_dim_data = data\n",
    "name_converter = {names[i]: f\"/observations/images/{i}\" for i in range(len(names))}\n",
    "target_namer = lambda i: f\"episode_{i}.hdf5\"\n",
    "\n",
    "compresser = crd.Compresser(\"jpg\", [int(cv2.IMWRITE_JPEG_QUALITY), 50], True)\n",
    "\n",
    "os.makedirs(target_dir, exist_ok=True)\n",
    "\n",
    "# get max episode length\n",
    "episode_lens = []\n",
    "for low_d in low_dim_data.values():\n",
    "    episode_lens.append(len(list(low_d.values())[0]))\n",
    "\n",
    "max_pad_lenth = max(episode_lens)\n",
    "\n",
    "# save all data\n",
    "episode_names = list(low_dim_data.keys())\n",
    "print(f\"Episode lengths: {episode_lens}\")\n",
    "print(f\"Max episode length: {max_pad_lenth}\")\n",
    "print(f\"All episodes: {episode_names}\")\n",
    "print(f\"episode number: {len(episode_names)}\")\n",
    "downsampling = 0\n",
    "def save_one(index, ep_name):\n",
    "    crd.merge_video_and_save(\n",
    "        low_dim_data[ep_name],\n",
    "        f\"{raw_dir}/{ep_name}\",\n",
    "        video_names,\n",
    "        crd.save_dict_to_hdf5,\n",
    "        name_converter,\n",
    "        compresser,\n",
    "        f\"{target_dir}/\" + target_namer(index),\n",
    "        max_pad_lenth,\n",
    "        downsampling\n",
    "    )\n",
    "    data.pop(ep_name)"
   ]
  },
  {
   "cell_type": "code",
   "execution_count": null,
   "metadata": {},
   "outputs": [],
   "source": [
    "# save all\n",
    "from concurrent.futures import ThreadPoolExecutor\n",
    "futures = []\n",
    "with ThreadPoolExecutor(max_workers=25) as executor:\n",
    "    for index, ep_name in enumerate(episode_names):\n",
    "        # silent execution, no print\n",
    "        futures.append(executor.submit(save_one, index, ep_name))\n",
    "print(f\"All data saved to {target_dir}\")"
   ]
  },
  {
   "cell_type": "code",
   "execution_count": null,
   "metadata": {},
   "outputs": [],
   "source": [
    "save_one(0, episode_names[0])"
   ]
  },
  {
   "cell_type": "code",
   "execution_count": null,
   "metadata": {},
   "outputs": [],
   "source": [
    "# check hdf5 data\n",
    "import convert_all as crd\n",
    "# task_name = \"1block1bowl\"\n",
    "# target_root_dir = \"../data/hdf5\"\n",
    "target_dir = f\"{target_root_dir}/{task_name}\"\n",
    "data = crd.hdf5_to_dict(f\"{target_dir}/episode_0.hdf5\")\n",
    "print(data.keys())\n",
    "data_flat = crd.flatten_dict(data, prefix=\"/\")\n",
    "print(data_flat.keys())"
   ]
  },
  {
   "cell_type": "code",
   "execution_count": null,
   "metadata": {},
   "outputs": [],
   "source": [
    "# print(data_flat['/compressed_len'])\n",
    "print(len(data_flat[\"/observations/images/0\"]))\n",
    "print(len(data_flat[\"/action\"]))"
   ]
  },
  {
   "cell_type": "code",
   "execution_count": null,
   "metadata": {},
   "outputs": [],
   "source": [
    "import cv2\n",
    "image = data_flat[\"/observations/images/0\"][0]\n",
    "print(image.shape)\n",
    "compresser = crd.Compresser(\"jpg\", [int(cv2.IMWRITE_JPEG_QUALITY), 50], True)\n",
    "image_dc = compresser.decompress(image, \"jpg\")\n",
    "print(image_dc.shape)\n",
    "import matplotlib.pyplot as plt\n",
    "plt.imshow(image_dc[:, :, ::-1])\n",
    "plt.show()"
   ]
  },
  {
   "cell_type": "code",
   "execution_count": null,
   "metadata": {},
   "outputs": [],
   "source": [
    "# fix action\n",
    "import json\n",
    "import numpy as np\n",
    "\n",
    "for i in range(49, 50):\n",
    "    with open(f\"demonstrations/raw/mmk_pick_grape/{i}/low_dim.json\", \"r\") as f:\n",
    "        data = json.load(f)\n",
    "        action = data[\"action\"][\"spine\"][\"joint_position\"]\n",
    "        obs = data[\"observation\"][\"spine\"][\"joint_position\"]\n",
    "        # change action\n",
    "        delta = np.array(obs[1:]) - np.array(obs[:-1])\n",
    "        # > 0 -> 1, < 0 -> -1\n",
    "        action = np.sign(delta)\n",
    "        # 获取不为0的值的index\n",
    "        index_not0 = np.where(action != 0)\n",
    "        first_not0 = index_not0[0][0]\n",
    "        last_not0 = index_not0[0][-1]\n",
    "        # 从第一个不为0的值开始，到最后一个不为0的值结束，将中间的值设为1\n",
    "        action[first_not0:last_not0] = 1\n",
    "        action = action.tolist()\n",
    "        action.append(action[-1])\n",
    "        data[\"action\"][\"spine\"] = {\"joint_velocity\": action}\n",
    "    with open(f\"demonstrations/raw/mmk_pick_grape/{i}/low_dim.json\", \"w\") as f:\n",
    "        json.dump(data, f)"
   ]
  },
  {
   "cell_type": "code",
   "execution_count": null,
   "metadata": {},
   "outputs": [],
   "source": [
    "# rename\n",
    "import json\n",
    "\n",
    "for i in range(50):\n",
    "    with open(f\"demonstrations/raw/mmk_pick_grape/{i}/low_dim.json\", \"r\") as f:\n",
    "        data = json.load(f)\n",
    "        data[\"action\"][\"head\"] = {\"joint_velocity\": data[\"action\"][\"head\"][\"joint_velocity\"][\"joint_position\"]}\n",
    "    with open(f\"demonstrations/raw/mmk_pick_grape/{i}/low_dim.json\", \"w\") as f:\n",
    "        json.dump(data, f)"
   ]
  },
  {
   "cell_type": "markdown",
   "metadata": {},
   "source": [
    "## Position Control"
   ]
  },
  {
   "cell_type": "code",
   "execution_count": null,
   "metadata": {},
   "outputs": [],
   "source": [
    "# add head and spine to joint_position action\n",
    "import json\n",
    "\n",
    "for i in range(58):\n",
    "    with open(f\"demonstrations/raw/mmk_pick_grape/{i}/low_dim.json\", \"r\") as f:\n",
    "        data = json.load(f)\n",
    "        obs_spine = data[\"observation\"][\"spine\"][\"joint_position\"]\n",
    "        obs_head = data[\"observation\"][\"head\"][\"joint_position\"]\n",
    "        data[\"action\"][\"head\"][\"joint_position\"] = obs_head[1:] + [obs_head[-1]]\n",
    "        data[\"action\"][\"spine\"][\"joint_position\"] = obs_spine[1:] + [obs_spine[-1]]\n",
    "    with open(f\"demonstrations/raw/mmk_pick_grape/{i}/low_dim.json\", \"w\") as f:\n",
    "        json.dump(data, f)"
   ]
  },
  {
   "cell_type": "code",
   "execution_count": null,
   "metadata": {},
   "outputs": [],
   "source": [
    "# get all low_dim data (head&spine position control)\n",
    "import convert_all as crd\n",
    "raw_dir = \"demonstrations/raw/mmk_pick_grape\"\n",
    "data = crd.raw_to_dict(\n",
    "    raw_dir,\n",
    "    [\"low_dim.json\"],\n",
    "    video_file_names=None,\n",
    "    flatten_mode=\"hdf5\",\n",
    "    concatenater={\n",
    "        \"/observations/qpos\": (\n",
    "            \"/observation/arm/left/joint_position\",\n",
    "            \"/observation/eef/left/joint_position\",\n",
    "            \"/observation/arm/right/joint_position\",\n",
    "            \"/observation/eef/right/joint_position\",\n",
    "            \"/observation/head/joint_position\",\n",
    "            \"/observation/spine/joint_position\"\n",
    "        ),\n",
    "        \"/action\": (\n",
    "            \"/action/arm/left/joint_position\",\n",
    "            \"/action/eef/left/joint_position\",\n",
    "            \"/action/arm/right/joint_position\",\n",
    "            \"/action/eef/right/joint_position\",\n",
    "            \"/action/head/joint_position\",\n",
    "            \"/action/spine/joint_position\"\n",
    "        ),\n",
    "    },\n",
    "    key_filter=[\n",
    "        \"/observation/arm/left/joint_velocity\",\n",
    "        \"/observation/arm/right/joint_velocity\",\n",
    "        \"/observation/arm/left/joint_torque\",\n",
    "        \"/observation/arm/right/joint_torque\",\n",
    "        \"/action/head/joint_velocity\",\n",
    "        \"/action/spine/joint_velocity\"\n",
    "    ],\n",
    ")"
   ]
  },
  {
   "cell_type": "code",
   "execution_count": null,
   "metadata": {},
   "outputs": [],
   "source": [
    "ep_number = len(data)\n",
    "print(f\"Number of episodes: {ep_number}\")"
   ]
  },
  {
   "cell_type": "code",
   "execution_count": null,
   "metadata": {},
   "outputs": [],
   "source": [
    "# 将spine的observation和action[-120000, 0]缩放到[-2pi, 0]\n",
    "import numpy as np\n",
    "for i in range(ep_number):\n",
    "    qpos_obs = np.array(data[str(i)][\"/observations/qpos\"])\n",
    "    qpos_act = np.array(data[str(i)][\"/action\"])\n",
    "    qpos_obs[:, -1] = 2 * np.pi * qpos_obs[:, -1] / 120000\n",
    "    qpos_act[:, -1] = 2 * np.pi * qpos_act[:, -1] / 120000\n",
    "    data[str(i)][\"/observations/qpos\"] = qpos_obs.tolist()\n",
    "    data[str(i)][\"/action\"] = qpos_act.tolist()"
   ]
  }
 ],
 "metadata": {
  "kernelspec": {
   "display_name": "aloha",
   "language": "python",
   "name": "python3"
  },
  "language_info": {
   "codemirror_mode": {
    "name": "ipython",
    "version": 3
   },
   "file_extension": ".py",
   "mimetype": "text/x-python",
   "name": "python",
   "nbconvert_exporter": "python",
   "pygments_lexer": "ipython3",
   "version": "3.8.10"
  }
 },
 "nbformat": 4,
 "nbformat_minor": 2
}
