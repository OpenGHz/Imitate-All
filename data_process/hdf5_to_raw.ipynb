{
 "cells": [
  {
   "cell_type": "code",
   "execution_count": 13,
   "metadata": {},
   "outputs": [],
   "source": [
    "import convert_all as crd\n",
    "from image_processor import save_images_concurrently, encode_video_frames"
   ]
  },
  {
   "cell_type": "code",
   "execution_count": 20,
   "metadata": {},
   "outputs": [],
   "source": [
    "task_name = \"put_block_into_bowl\"\n",
    "hdf5_dir = f'../data/hdf5/{task_name}'\n",
    "camera_names = [\"0\", \"1\"]\n",
    "for i in range(299,300):\n",
    "    hdf5_data = crd.hdf5_to_dict(f'{hdf5_dir}/episode_{i}.hdf5')\n",
    "    for cam in camera_names:\n",
    "        images = hdf5_data[\"observations\"][\"images\"][cam]\n",
    "        images = list(images)\n",
    "        for index, image in enumerate(images):\n",
    "            raw_image = crd.Compresser.decompress(image, \"jpg\")\n",
    "            images[index] = raw_image[:, :, ::-1]\n",
    "        save_images_concurrently(images, f\"../data/images/{task_name}/episode_{i}/{cam}\")"
   ]
  },
  {
   "cell_type": "code",
   "execution_count": 22,
   "metadata": {},
   "outputs": [],
   "source": [
    "from pathlib import Path\n",
    "\n",
    "vcodec = \"libx264\"\n",
    "pix_fmt = \"yuv420p\"\n",
    "g = 2\n",
    "crf = 30\n",
    "fast_decode = 0\n",
    "log_level = \"error\"\n",
    "overwrite = True\n",
    "\n",
    "raw_dir = f\"../data/raw/{task_name}\"\n",
    "for i in range(300):\n",
    "    for cam in camera_names:\n",
    "        video_path = f\"{raw_dir}/{i}/{cam}.mp4\"\n",
    "        encode_video_frames(\n",
    "            Path(f\"../data/images/{task_name}/episode_{i}/{cam}\"),\n",
    "            Path(video_path),\n",
    "            20,\n",
    "            vcodec,\n",
    "            pix_fmt,\n",
    "            g,\n",
    "            crf,\n",
    "            fast_decode,\n",
    "            log_level,\n",
    "            overwrite,\n",
    "        )"
   ]
  }
 ],
 "metadata": {
  "kernelspec": {
   "display_name": "aloha",
   "language": "python",
   "name": "python3"
  },
  "language_info": {
   "codemirror_mode": {
    "name": "ipython",
    "version": 3
   },
   "file_extension": ".py",
   "mimetype": "text/x-python",
   "name": "python",
   "nbconvert_exporter": "python",
   "pygments_lexer": "ipython3",
   "version": "3.8.10"
  }
 },
 "nbformat": 4,
 "nbformat_minor": 2
}
