{
 "cells": [
  {
   "cell_type": "code",
   "execution_count": null,
   "metadata": {},
   "outputs": [],
   "source": [
    "%load_ext autoreload\n",
    "%autoreload 2"
   ]
  },
  {
   "cell_type": "code",
   "execution_count": null,
   "metadata": {},
   "outputs": [],
   "source": [
    "import convert_all as crd"
   ]
  },
  {
   "cell_type": "code",
   "execution_count": null,
   "metadata": {},
   "outputs": [],
   "source": [
    "# get all low_dim data\n",
    "task_name = \"3blocks\"\n",
    "raw_root_dir = \"../data/raw\"\n",
    "raw_dir = f\"{raw_root_dir}/{task_name}\"\n",
    "data = crd.raw_to_dict(\n",
    "    raw_dir,\n",
    "    [\"obs_action.json\"],\n",
    "    video_file_names=None,\n",
    "    flatten_mode=\"hdf5\",\n",
    "    name_converter={\n",
    "        \"/obs/jq\": \"/observations/qpos\",\n",
    "        \"/act\": \"/action\",\n",
    "    },\n",
    "    pre_process=None,\n",
    "    concatenater=None,\n",
    "    key_filter=[\"time\", \"obj_pose\"]\n",
    ")\n",
    "downsampling = 0"
   ]
  },
  {
   "cell_type": "code",
   "execution_count": null,
   "metadata": {},
   "outputs": [],
   "source": [
    "print(len(list(data.keys())))\n",
    "print(data.keys())\n",
    "print(data['000'].keys())\n",
    "print(data['000']['/observations/qpos'][50])\n",
    "print(len(data['000']['/observations/qpos']))\n",
    "print(len(data['080']['/observations/qpos']))"
   ]
  },
  {
   "cell_type": "code",
   "execution_count": null,
   "metadata": {},
   "outputs": [],
   "source": [
    "downsampling = 3\n",
    "down_data = {}\n",
    "for episode, value in data.items():\n",
    "    down_data[episode] = {}\n",
    "    for key, v in value.items():\n",
    "        down_data[episode][key] = v[::downsampling]\n",
    "data = down_data"
   ]
  },
  {
   "cell_type": "code",
   "execution_count": null,
   "metadata": {},
   "outputs": [],
   "source": [
    "import os, cv2\n",
    "# merge high_dim data and save\n",
    "raw_dir\n",
    "# name = \"gs_video\"\n",
    "# video_names = [f\"{name}.mp4\"]\n",
    "names = [\"arm_video\", \"global_video\"]\n",
    "video_names = [f\"{name}.mp4\" for name in names]\n",
    "target_root_dir = \"../data/hdf5\"\n",
    "target_dir = f\"{target_root_dir}/{task_name}\"\n",
    "low_dim_data = data\n",
    "name_converter = {names[i]: f\"/observations/images/{i}\" for i in range(len(names))}\n",
    "target_namer = lambda i: f\"episode_{i}.hdf5\"\n",
    "\n",
    "compresser = crd.Compresser(\"jpg\", [int(cv2.IMWRITE_JPEG_QUALITY), 50], True)\n",
    "\n",
    "os.makedirs(target_dir, exist_ok=True)\n",
    "\n",
    "# get max episode length\n",
    "episode_lens = []\n",
    "for low_d in low_dim_data.values():\n",
    "    episode_lens.append(len(list(low_d.values())[0]))\n",
    "\n",
    "max_pad_length = max(episode_lens)\n",
    "\n",
    "# save all data\n",
    "episode_names = list(low_dim_data.keys())\n",
    "print(f\"Episode lengths: {episode_lens}\")\n",
    "print(f\"Max episode length: {max_pad_length}\")\n",
    "print(f\"All episodes: {episode_names}\")\n",
    "print(f\"episode number: {len(episode_names)}\")\n",
    "\n",
    "def save_one(index, ep_name):\n",
    "    crd.merge_video_and_save(\n",
    "        low_dim_data[ep_name],\n",
    "        f\"{raw_dir}/{ep_name}\",\n",
    "        video_names,\n",
    "        crd.save_dict_to_hdf5,\n",
    "        name_converter,\n",
    "        compresser,\n",
    "        f\"{target_dir}/\" + target_namer(index),\n",
    "        max_pad_length,\n",
    "        downsampling\n",
    "    )\n",
    "    data.pop(ep_name)"
   ]
  },
  {
   "cell_type": "code",
   "execution_count": null,
   "metadata": {},
   "outputs": [],
   "source": [
    "# save all\n",
    "from concurrent.futures import ThreadPoolExecutor\n",
    "futures = []\n",
    "with ThreadPoolExecutor(max_workers=25) as executor:\n",
    "    for index, ep_name in enumerate(episode_names):\n",
    "        # silent execution, no print\n",
    "        futures.append(executor.submit(save_one, index, ep_name))\n",
    "print(f\"All data saved to {target_dir}\")"
   ]
  },
  {
   "cell_type": "code",
   "execution_count": null,
   "metadata": {},
   "outputs": [],
   "source": [
    "save_one(0, episode_names[0])"
   ]
  },
  {
   "cell_type": "code",
   "execution_count": null,
   "metadata": {},
   "outputs": [],
   "source": [
    "# check hdf5 data\n",
    "import convert_all as crd\n",
    "task_name = \"1block1bowl\"\n",
    "target_root_dir = \"../data/hdf5\"\n",
    "target_dir = f\"{target_root_dir}/{task_name}\"\n",
    "data = crd.hdf5_to_dict(f\"{target_dir}/episode_0.hdf5\")\n",
    "print(data.keys())\n",
    "data_flat = crd.flatten_dict(data, prefix=\"/\")\n",
    "print(data_flat.keys())"
   ]
  },
  {
   "cell_type": "code",
   "execution_count": null,
   "metadata": {},
   "outputs": [],
   "source": [
    "# print(data_flat['/compressed_len'])\n",
    "print(len(data_flat[\"/observations/images/0\"]))\n",
    "print(len(data_flat[\"/action\"]))"
   ]
  },
  {
   "cell_type": "code",
   "execution_count": null,
   "metadata": {},
   "outputs": [],
   "source": [
    "# show actions\n",
    "start = 120\n",
    "end = start + 3\n",
    "\n",
    "action = data_flat[\"/action\"][start:end]\n",
    "obs = data_flat[\"/observations/qpos\"][start+1:end+1]\n",
    "print(action)\n",
    "print(obs)\n",
    "print((obs - action))"
   ]
  },
  {
   "cell_type": "code",
   "execution_count": null,
   "metadata": {},
   "outputs": [],
   "source": [
    "print(action[1])\n",
    "print(obs[1])\n",
    "print((obs[1] - action[1]) * 180 / 3.1415926)"
   ]
  },
  {
   "cell_type": "code",
   "execution_count": null,
   "metadata": {},
   "outputs": [],
   "source": [
    "import cv2\n",
    "image = data_flat[\"/observations/images/0\"][0]\n",
    "print(image.shape)\n",
    "compresser = crd.Compresser(\"jpg\", [int(cv2.IMWRITE_JPEG_QUALITY), 50], True)\n",
    "image_dc = compresser.decompress(image, \"jpg\")\n",
    "print(image_dc.shape)\n",
    "import matplotlib.pyplot as plt\n",
    "plt.imshow(image_dc[:, :, ::-1])\n",
    "plt.show()"
   ]
  }
 ],
 "metadata": {
  "kernelspec": {
   "display_name": "aloha",
   "language": "python",
   "name": "python3"
  },
  "language_info": {
   "codemirror_mode": {
    "name": "ipython",
    "version": 3
   },
   "file_extension": ".py",
   "mimetype": "text/x-python",
   "name": "python",
   "nbconvert_exporter": "python",
   "pygments_lexer": "ipython3",
   "version": "3.8.10"
  }
 },
 "nbformat": 4,
 "nbformat_minor": 2
}
