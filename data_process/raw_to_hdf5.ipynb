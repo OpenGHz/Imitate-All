{
 "cells": [
  {
   "cell_type": "code",
   "execution_count": null,
   "metadata": {},
   "outputs": [],
   "source": [
    "%load_ext autoreload\n",
    "%autoreload 2"
   ]
  },
  {
   "cell_type": "code",
   "execution_count": 1,
   "metadata": {},
   "outputs": [],
   "source": [
    "import convert_all as crd"
   ]
  },
  {
   "cell_type": "code",
   "execution_count": 2,
   "metadata": {},
   "outputs": [
    {
     "name": "stderr",
     "output_type": "stream",
     "text": [
      "Data Converting: 100%|██████████| 3/3 [00:00<00:00, 1253.03it/s]\n"
     ]
    }
   ],
   "source": [
    "# get all low_dim data\n",
    "task_name = \"example_cole\"\n",
    "raw_dir = f\"../data/raw/{task_name}\"\n",
    "data = crd.raw_to_dict(\n",
    "    raw_dir,\n",
    "    [\"low_dim.json\"],\n",
    "    video_file_names=None,\n",
    "    flatten_mode=None,\n",
    "    concatenater={\n",
    "        \"/observations/qpos\": (\n",
    "            \"observation/arm/joint_position\",\n",
    "            \"observation/eef/joint_position\",\n",
    "        ),\n",
    "        \"/action\": (\n",
    "            \"action/arm/joint_position\",\n",
    "            \"action/eef/joint_position\",\n",
    "        ),\n",
    "    },\n",
    "    key_filter=[\n",
    "        \"observation/eef/pose\",\n",
    "        \"action/eef/pose\",\n",
    "        \"/time\",\n",
    "    ],\n",
    ")"
   ]
  },
  {
   "cell_type": "code",
   "execution_count": null,
   "metadata": {},
   "outputs": [],
   "source": [
    "ep_number = len(data)\n",
    "print(f\"Number of episodes: {ep_number}\")\n",
    "print(list(data[\"0\"].keys()))\n",
    "print(list(data[\"0\"][\"/observations/qpos\"][0]))\n",
    "print(list(data[\"0\"][\"/action\"][0]))"
   ]
  },
  {
   "cell_type": "code",
   "execution_count": 3,
   "metadata": {},
   "outputs": [
    {
     "name": "stdout",
     "output_type": "stream",
     "text": [
      "name_converter: {'observation.images.cam1': '/observations/images/0'}\n",
      "Max episode length: 63\n",
      "All episodes: ['1', '0', '2']\n",
      "episode number: 3\n"
     ]
    }
   ],
   "source": [
    "import os\n",
    "import cv2\n",
    "\n",
    "# merge high_dim data and save\n",
    "raw_dir\n",
    "# raw_names = [\"observation.images.cam1\", \"observation.images.cam2\"]\n",
    "raw_names = [\"observation.images.cam1\"]\n",
    "video_names = [name + \".mp4\" for name in raw_names]\n",
    "target_dir = f\"../data/hdf5/{task_name}/\"\n",
    "low_dim_data = data\n",
    "# name_converter = {\"head\": \"/observations/images/0\"}\n",
    "name_converter = {raw_names[i]: f\"/observations/images/{i}\" for i in range(len(raw_names))}\n",
    "print(f\"name_converter: {name_converter}\")\n",
    "target_namer = lambda i: f\"episode_{i}.hdf5\"\n",
    "\n",
    "compresser = crd.Compresser(\"jpg\", [int(cv2.IMWRITE_JPEG_QUALITY), 50], True)\n",
    "\n",
    "os.makedirs(target_dir, exist_ok=True)\n",
    "\n",
    "# get max episode length\n",
    "episode_lens = []\n",
    "for low_d in low_dim_data.values():\n",
    "    episode_lens.append(len(list(low_d.values())[0]))\n",
    "max_pad_lenth = max(episode_lens)\n",
    "\n",
    "episode_names = list(low_dim_data.keys())\n",
    "print(f\"Max episode length: {max_pad_lenth}\")\n",
    "print(f\"All episodes: {episode_names}\")\n",
    "print(f\"episode number: {len(episode_names)}\")"
   ]
  },
  {
   "cell_type": "code",
   "execution_count": 4,
   "metadata": {},
   "outputs": [],
   "source": [
    "def save_one(index, ep_name):\n",
    "    crd.merge_video_and_save(\n",
    "        low_dim_data[ep_name],\n",
    "        f\"{raw_dir}/{ep_name}\",\n",
    "        video_names,\n",
    "        crd.save_dict_to_hdf5,\n",
    "        name_converter,\n",
    "        compresser,\n",
    "        f\"{target_dir}/\" + target_namer(index),\n",
    "        max_pad_lenth,\n",
    "    )\n",
    "    data.pop(ep_name)"
   ]
  },
  {
   "cell_type": "code",
   "execution_count": 6,
   "metadata": {},
   "outputs": [],
   "source": [
    "from concurrent.futures import ThreadPoolExecutor\n",
    "\n",
    "# save all data\n",
    "futures = []\n",
    "with ThreadPoolExecutor(max_workers=25) as executor:\n",
    "\n",
    "    def save_one(index, ep_name):\n",
    "        crd.merge_video_and_save(\n",
    "            low_dim_data[ep_name],\n",
    "            f\"{raw_dir}/{ep_name}\",\n",
    "            video_names,\n",
    "            crd.save_dict_to_hdf5,\n",
    "            name_converter,\n",
    "            compresser,\n",
    "            f\"{target_dir}/\" + target_namer(index),\n",
    "            max_pad_lenth,\n",
    "        )\n",
    "        data.pop(ep_name)\n",
    "\n",
    "    for index, ep_name in enumerate(episode_names):\n",
    "        futures.append(executor.submit(save_one, index, ep_name))"
   ]
  },
  {
   "cell_type": "code",
   "execution_count": 8,
   "metadata": {},
   "outputs": [
    {
     "ename": "KeyError",
     "evalue": "'1'",
     "output_type": "error",
     "traceback": [
      "\u001b[0;31m---------------------------------------------------------------------------\u001b[0m",
      "\u001b[0;31mKeyError\u001b[0m                                  Traceback (most recent call last)",
      "Cell \u001b[0;32mIn[8], line 1\u001b[0m\n\u001b[0;32m----> 1\u001b[0m \u001b[43msave_one\u001b[49m\u001b[43m(\u001b[49m\u001b[38;5;241;43m0\u001b[39;49m\u001b[43m,\u001b[49m\u001b[43m \u001b[49m\u001b[43mepisode_names\u001b[49m\u001b[43m[\u001b[49m\u001b[38;5;241;43m0\u001b[39;49m\u001b[43m]\u001b[49m\u001b[43m)\u001b[49m\n",
      "Cell \u001b[0;32mIn[4], line 3\u001b[0m, in \u001b[0;36msave_one\u001b[0;34m(index, ep_name)\u001b[0m\n\u001b[1;32m      1\u001b[0m \u001b[38;5;28;01mdef\u001b[39;00m \u001b[38;5;21msave_one\u001b[39m(index, ep_name):\n\u001b[1;32m      2\u001b[0m     crd\u001b[38;5;241m.\u001b[39mmerge_video_and_save(\n\u001b[0;32m----> 3\u001b[0m         \u001b[43mlow_dim_data\u001b[49m\u001b[43m[\u001b[49m\u001b[43mep_name\u001b[49m\u001b[43m]\u001b[49m,\n\u001b[1;32m      4\u001b[0m         \u001b[38;5;124mf\u001b[39m\u001b[38;5;124m\"\u001b[39m\u001b[38;5;132;01m{\u001b[39;00mraw_dir\u001b[38;5;132;01m}\u001b[39;00m\u001b[38;5;124m/\u001b[39m\u001b[38;5;132;01m{\u001b[39;00mep_name\u001b[38;5;132;01m}\u001b[39;00m\u001b[38;5;124m\"\u001b[39m,\n\u001b[1;32m      5\u001b[0m         video_names,\n\u001b[1;32m      6\u001b[0m         crd\u001b[38;5;241m.\u001b[39msave_dict_to_hdf5,\n\u001b[1;32m      7\u001b[0m         name_converter,\n\u001b[1;32m      8\u001b[0m         compresser,\n\u001b[1;32m      9\u001b[0m         \u001b[38;5;124mf\u001b[39m\u001b[38;5;124m\"\u001b[39m\u001b[38;5;132;01m{\u001b[39;00mtarget_dir\u001b[38;5;132;01m}\u001b[39;00m\u001b[38;5;124m/\u001b[39m\u001b[38;5;124m\"\u001b[39m \u001b[38;5;241m+\u001b[39m target_namer(index),\n\u001b[1;32m     10\u001b[0m         max_pad_lenth,\n\u001b[1;32m     11\u001b[0m     )\n\u001b[1;32m     12\u001b[0m     data\u001b[38;5;241m.\u001b[39mpop(ep_name)\n",
      "\u001b[0;31mKeyError\u001b[0m: '1'"
     ]
    }
   ],
   "source": [
    "save_one(0, episode_names[0])"
   ]
  },
  {
   "cell_type": "code",
   "execution_count": null,
   "metadata": {},
   "outputs": [],
   "source": []
  }
 ],
 "metadata": {
  "kernelspec": {
   "display_name": "aloha",
   "language": "python",
   "name": "python3"
  },
  "language_info": {
   "codemirror_mode": {
    "name": "ipython",
    "version": 3
   },
   "file_extension": ".py",
   "mimetype": "text/x-python",
   "name": "python",
   "nbconvert_exporter": "python",
   "pygments_lexer": "ipython3",
   "version": "3.8.10"
  }
 },
 "nbformat": 4,
 "nbformat_minor": 2
}
