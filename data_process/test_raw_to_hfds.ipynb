{
 "cells": [
  {
   "cell_type": "code",
   "execution_count": null,
   "metadata": {},
   "outputs": [],
   "source": [
    "%load_ext autoreload\n",
    "%autoreload 2"
   ]
  },
  {
   "cell_type": "code",
   "execution_count": null,
   "metadata": {},
   "outputs": [],
   "source": [
    "import convert_all as crd"
   ]
  },
  {
   "cell_type": "code",
   "execution_count": null,
   "metadata": {},
   "outputs": [],
   "source": [
    "# get all low_dim data\n",
    "raw_dir = \"../demonstrations/raw/stack_cups\"\n",
    "data = crd.raw_to_dict(\n",
    "    raw_dir,\n",
    "    [\"records.json\"],\n",
    "    video_file_names=None,\n",
    "    flatten_mode=\"hdf5\",\n",
    "    concatenater={\n",
    "        \"/observations/qpos\": (\n",
    "            \"/observations/pos_f\",\n",
    "            \"/observations/endpos_f\",\n",
    "        ),\n",
    "        \"/action\": (\n",
    "            \"/observations/pos_t\",\n",
    "            \"/observations/endpos_t\",\n",
    "        ),\n",
    "    },\n",
    "    key_filter=[\n",
    "        \"/observations/eff_f\",\n",
    "        \"/observations/eff_f\",\n",
    "        \"/observations/vel_f\",\n",
    "        \"/observations/vel_t\",\n",
    "        \"/observations/eef_pose_f\",\n",
    "        \"/observations/eef_pose_t\",\n",
    "        \"/observations/time\",\n",
    "        \"count\",\n",
    "    ],\n",
    ")"
   ]
  },
  {
   "cell_type": "code",
   "execution_count": 1,
   "metadata": {},
   "outputs": [
    {
     "name": "stdout",
     "output_type": "stream",
     "text": [
      "{'aboke': {'okef': 1}}\n"
     ]
    }
   ],
   "source": [
    "import convert_all as crd\n",
    "print(crd.replace_keys({\"abcde\":{\"cdef\": 1}}, \"cd\", \"ok\"))"
   ]
  }
 ],
 "metadata": {
  "kernelspec": {
   "display_name": "aloha",
   "language": "python",
   "name": "python3"
  },
  "language_info": {
   "codemirror_mode": {
    "name": "ipython",
    "version": 3
   },
   "file_extension": ".py",
   "mimetype": "text/x-python",
   "name": "python",
   "nbconvert_exporter": "python",
   "pygments_lexer": "ipython3",
   "version": "3.8.10"
  }
 },
 "nbformat": 4,
 "nbformat_minor": 2
}
