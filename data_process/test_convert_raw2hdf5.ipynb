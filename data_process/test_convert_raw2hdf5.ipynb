{
 "cells": [
  {
   "cell_type": "code",
   "execution_count": null,
   "metadata": {},
   "outputs": [],
   "source": [
    "%load_ext autoreload\n",
    "%autoreload 2"
   ]
  },
  {
   "cell_type": "code",
   "execution_count": 1,
   "metadata": {},
   "outputs": [],
   "source": [
    "import convert_all as crd"
   ]
  },
  {
   "cell_type": "code",
   "execution_count": null,
   "metadata": {},
   "outputs": [],
   "source": [
    "# get all low_dim data\n",
    "task_name = \"stack_blocks_iros\"\n",
    "raw_root_dir = \"../data/raw\"\n",
    "raw_dir = f\"{raw_root_dir}/{task_name}\"\n",
    "data = crd.raw_to_dict(\n",
    "    raw_dir,\n",
    "    [\"records.json\"],\n",
    "    video_file_names=None,\n",
    "    flatten_mode=None,\n",
    "    concatenater={\n",
    "        \"/observations/qpos\": (\n",
    "            \"/observations/pos_f\",\n",
    "            \"/observations/endpos_f\",\n",
    "        ),\n",
    "        \"/action\": (\n",
    "            \"/observations/pos_t\",\n",
    "            \"/observations/endpos_t\",\n",
    "        ),\n",
    "    },\n",
    "    key_filter=[\n",
    "        \"/observations/eff_f\",\n",
    "        \"/observations/eff_t\",\n",
    "        \"/observations/vel_f\",\n",
    "        \"/observations/vel_t\",\n",
    "        \"/observations/eef_pose_f\",\n",
    "        \"/observations/eef_pose_t\",\n",
    "        \"/observations/time\",\n",
    "        \"count\",\n",
    "    ],\n",
    ")"
   ]
  },
  {
   "cell_type": "code",
   "execution_count": null,
   "metadata": {},
   "outputs": [],
   "source": [
    "print(len(list(data.keys())))\n",
    "print(data.keys())\n",
    "print(data['0'].keys())\n",
    "print(data['0']['/observations/qpos'][50])\n",
    "print(len(data['0']['/observations/qpos']))"
   ]
  },
  {
   "cell_type": "code",
   "execution_count": null,
   "metadata": {},
   "outputs": [],
   "source": [
    "import os, cv2\n",
    "\n",
    "# merge high_dim data and save\n",
    "names = [\"rgb_global\", \"rgb_wrist\"]\n",
    "video_names = [f\"{names[0]}.avi\", f\"{names[1]}.avi\"]\n",
    "target_root_dir = \"../data/hdf5\"\n",
    "target_dir = f\"{target_root_dir}/{task_name}\"\n",
    "low_dim_data = data\n",
    "name_converter = {\n",
    "    v.replace(\".avi\", \"\"): f\"/observations/images/{i}\" for i, v in enumerate(video_names)\n",
    "}\n",
    "\n",
    "compresser = crd.Compresser(\"jpg\", [int(cv2.IMWRITE_JPEG_QUALITY), 50], True)\n",
    "\n",
    "os.makedirs(target_dir, exist_ok=True)\n",
    "\n",
    "# get max episode length\n",
    "episode_lens = []\n",
    "for low_d in low_dim_data.values():\n",
    "    episode_lens.append(len(list(low_d.values())[0]))\n",
    "\n",
    "max_pad_length = max(episode_lens)\n",
    "\n",
    "# save all data\n",
    "episode_names = list(low_dim_data.keys())\n",
    "episode_names.sort(key=lambda x: int(x))\n",
    "print(f\"Episode lengths: {episode_lens}\")\n",
    "print(f\"Max episode length: {max_pad_length}\")\n",
    "print(f\"All episodes: {episode_names}\")\n",
    "print(f\"episode number: {len(episode_names)}\")\n",
    "def save_one(i):\n",
    "    crd.merge_video_and_save(\n",
    "        low_dim_data[str(i)],\n",
    "        f\"{raw_dir}/{str(i)}\",\n",
    "        video_names,\n",
    "        crd.save_dict_to_hdf5,\n",
    "        name_converter,\n",
    "        compresser,\n",
    "        f\"{target_dir}/\" + f\"episode_{i}.hdf5\",\n",
    "        max_pad_length,\n",
    "    )\n",
    "    data.pop(str(i), None)"
   ]
  },
  {
   "cell_type": "code",
   "execution_count": null,
   "metadata": {},
   "outputs": [],
   "source": [
    "# save all\n",
    "from concurrent.futures import ThreadPoolExecutor, as_completed\n",
    "futures = []\n",
    "with ThreadPoolExecutor(max_workers=25) as executor:\n",
    "    for i in range(77, 200):  # [:2]\n",
    "        #Note: exception will not be printed\n",
    "        futures.append(executor.submit(save_one, i))\n",
    "# Wait for all futures to complete and print any exceptions\n",
    "# for future in as_completed(futures):\n",
    "#     future.result()\n",
    "print(f\"All data saved to {target_dir}\")"
   ]
  },
  {
   "cell_type": "code",
   "execution_count": null,
   "metadata": {},
   "outputs": [],
   "source": [
    "for i in range(148, 200):\n",
    "    save_one(i)\n",
    "    print(f\"Episode {i} saved\")"
   ]
  },
  {
   "cell_type": "code",
   "execution_count": null,
   "metadata": {},
   "outputs": [],
   "source": [
    "save_one(147)"
   ]
  },
  {
   "cell_type": "code",
   "execution_count": null,
   "metadata": {},
   "outputs": [],
   "source": [
    "# check hdf5 data\n",
    "import convert_all as crd\n",
    "task_name = \"stack_cups_iros\"\n",
    "target_root_dir = \"../data/hdf5\"\n",
    "target_dir = f\"{target_root_dir}/{task_name}\"\n",
    "data = crd.hdf5_to_dict(f\"{target_dir}/episode_199.hdf5\")\n",
    "print(data.keys())\n",
    "data_flat = crd.flatten_dict(data, prefix=\"/\")\n",
    "print(data_flat.keys())"
   ]
  },
  {
   "cell_type": "code",
   "execution_count": null,
   "metadata": {},
   "outputs": [],
   "source": [
    "print(data_flat['/compressed_len'])"
   ]
  },
  {
   "cell_type": "code",
   "execution_count": null,
   "metadata": {},
   "outputs": [],
   "source": [
    "# show actions\n",
    "start = 120\n",
    "end = start + 3\n",
    "\n",
    "action = data_flat[\"/action\"][start:end]\n",
    "obs = data_flat[\"/observations/qpos\"][start+1:end+1]\n",
    "print(action)\n",
    "print(obs)\n",
    "print((obs - action))"
   ]
  },
  {
   "cell_type": "code",
   "execution_count": null,
   "metadata": {},
   "outputs": [],
   "source": [
    "print(action[1])\n",
    "print(obs[1])\n",
    "print((obs[1] - action[1]) * 180 / 3.1415926)"
   ]
  },
  {
   "cell_type": "code",
   "execution_count": null,
   "metadata": {},
   "outputs": [],
   "source": [
    "import cv2\n",
    "image = data_flat[\"/observations/images/0\"][0]\n",
    "print(image.shape)\n",
    "compresser = crd.Compresser(\"jpg\", [int(cv2.IMWRITE_JPEG_QUALITY), 50], True)\n",
    "image_dc = compresser.decompress(image, \"jpg\")\n",
    "print(image_dc.shape)\n",
    "import matplotlib.pyplot as plt\n",
    "plt.imshow(image_dc[:, :, ::-1])\n",
    "plt.show()"
   ]
  }
 ],
 "metadata": {
  "kernelspec": {
   "display_name": "aloha",
   "language": "python",
   "name": "python3"
  },
  "language_info": {
   "codemirror_mode": {
    "name": "ipython",
    "version": 3
   },
   "file_extension": ".py",
   "mimetype": "text/x-python",
   "name": "python",
   "nbconvert_exporter": "python",
   "pygments_lexer": "ipython3",
   "version": "3.8.10"
  }
 },
 "nbformat": 4,
 "nbformat_minor": 2
}
